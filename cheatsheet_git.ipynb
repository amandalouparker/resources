{
 "cells": [
  {
   "cell_type": "markdown",
   "metadata": {},
   "source": [
    "## Git cheatsheet\n",
    "\n",
    "Notes and GIT commands colelcted from online tutorials\n",
    "\n",
    "1. https://git-scm.com/book/en/v2/Getting-Started-First-Time-Git-Setup \n",
    "2. https://help.github.com/articles/set-up-git/ \n",
    "3. https://help.github.com/articles/cloning-a-repository/"
   ]
  },
  {
   "cell_type": "markdown",
   "metadata": {},
   "source": [
    "** Install git **\n",
    "\n",
    "1. pip install git\n",
    "2. brew install git\n",
    "\n",
    "**Set your username and email address:**\n",
    "\n",
    "1. git config --global user.name \"John Doe\"\n",
    "2. git config --global user.email johndoe@example.com\n",
    "\n",
    "You need to do this only once if you pass the --global option, because then Git will always use that information for anything you do on that system.\n",
    "\n",
    "** Set prefered text editor **\n",
    "\n",
    "1. git config --global core.editor TextEdit\n",
    "\n",
    "** Authenticate with GitHub website**\n",
    "\n",
    "HTTPS (recommended by GitHib)\n",
    "\n",
    "1. git credential-osxkeychain\n",
    "2. git config --global credential.helper osxkeychain \n",
    "\n",
    "** Check config so far **\n",
    "\n",
    "1. git config --list\n",
    "2. git config user.name\n",
    "\n",
    "** Accessing help **\n",
    "\n",
    "1. git help <verb>\n",
    "2. git <verb> --help\n",
    "3. man git-<verb>\n",
    "4. (e.g.) git help config\n",
    "5. q (to exit help)"
   ]
  },
  {
   "cell_type": "markdown",
   "metadata": {},
   "source": [
    "**To initiate a git repo on your local machine**\n",
    "You've got a folder of files on your local machine that you want to make into a repo \n",
    "\n",
    "1. cd /your_projectfiles/your_new_repo\n",
    "2. git init\n",
    "\n",
    "**Add a file to track**\n",
    "Need to tell git which files you want to add to the repo\n",
    "\n",
    "1. git add filename.py\n",
    "2. git add LICENSE\n",
    "3. git commit -m 'Type your commit description here'\n",
    "\n",
    "**To clone a repo to your local machine**\n",
    "\n",
    "1. cd /your_projectfiles\n",
    "2. git clone https://github.com/GIT_USERNAME/REPO_NAME\n",
    "\n",
    "The above creates a directory, initializes a .git directory inside it, pulls down all the data for that repository"
   ]
  },
  {
   "cell_type": "markdown",
   "metadata": {},
   "source": [
    "** Check status of files **\n",
    "\n",
    "1. git status\n",
    "\n"
   ]
  },
  {
   "cell_type": "markdown",
   "metadata": {},
   "source": [
    "** Diagram: Git workflow **\n",
    "    \n",
    "![diagram](https://i.stack.imgur.com/eXlL8.png)"
   ]
  },
  {
   "cell_type": "markdown",
   "metadata": {
    "collapsed": true
   },
   "source": [
    "** Updating changes **\n",
    "You've changed some files and want to update the remote repo\n",
    "\n",
    "1. git add cheatsheet_git.md\n",
    "2."
   ]
  },
  {
   "cell_type": "markdown",
   "metadata": {},
   "source": [
    "TBC...."
   ]
  },
  {
   "cell_type": "code",
   "execution_count": null,
   "metadata": {
    "collapsed": true
   },
   "outputs": [],
   "source": []
  }
 ],
 "metadata": {
  "kernelspec": {
   "display_name": "Python 2",
   "language": "python",
   "name": "python2"
  },
  "language_info": {
   "codemirror_mode": {
    "name": "ipython",
    "version": 2
   },
   "file_extension": ".py",
   "mimetype": "text/x-python",
   "name": "python",
   "nbconvert_exporter": "python",
   "pygments_lexer": "ipython2",
   "version": "2.7.13"
  }
 },
 "nbformat": 4,
 "nbformat_minor": 0
}
